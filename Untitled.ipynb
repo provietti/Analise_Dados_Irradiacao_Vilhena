{
 "cells": [
  {
   "cell_type": "markdown",
   "id": "43ac8988",
   "metadata": {},
   "source": [
    "# Análise de irradiações de Vilhena dos anos de 2020, 2021 e 2022\n",
    "\n",
    "Fonte dos dados: INMET"
   ]
  },
  {
   "cell_type": "markdown",
   "id": "f427373d",
   "metadata": {},
   "source": [
    "## Importando as Bibliotecas necessárias"
   ]
  },
  {
   "cell_type": "code",
   "execution_count": 2,
   "id": "d9f71f67",
   "metadata": {},
   "outputs": [],
   "source": [
    "import pandas as pd\n",
    "import numpy as np\n",
    "from datetime import datetime, timedelta"
   ]
  },
  {
   "cell_type": "markdown",
   "id": "b2489a1f",
   "metadata": {},
   "source": [
    "## Importando os Arquivos  "
   ]
  },
  {
   "cell_type": "code",
   "execution_count": 17,
   "id": "c19d0257",
   "metadata": {},
   "outputs": [],
   "source": [
    "#As 8 primeiras linhas do csv é um cabeçalho com os dados da estação e será importado para a primeira variável header_vilhena_ano, \n",
    "#as demais linhas serão importadas para a variável vilhena_ano\n",
    "\n",
    "#2020\n",
    "header_vilhena_2020 = pd.read_csv('INMET_N_RO_A938_VILHENA_01-01-2020_A_31-12-2020.csv', sep = ';',encoding='ISO-8859-1',  nrows=7)\n",
    "vilhena_2020 = pd.read_csv('INMET_N_RO_A938_VILHENA_01-01-2020_A_31-12-2020.csv', sep = ';',encoding='ISO-8859-1',  skiprows=8)\n",
    "#2021\n",
    "header_vilhena_2021 = pd.read_csv('INMET_N_RO_A938_VILHENA_01-01-2021_A_31-12-2021.csv', sep = ';',encoding='ISO-8859-1',  nrows=7)\n",
    "vilhena_2021 = pd.read_csv('INMET_N_RO_A938_VILHENA_01-01-2021_A_31-12-2021.csv', sep = ';',encoding='ISO-8859-1',  skiprows=8)\n",
    "#2022\n",
    "header_vilhena_2022 = pd.read_csv('INMET_N_RO_A938_VILHENA_01-01-2022_A_31-12-2022.csv', sep = ';',encoding='ISO-8859-1',  nrows=7)\n",
    "vilhena_2022 = pd.read_csv('INMET_N_RO_A938_VILHENA_01-01-2022_A_31-12-2022.csv', sep = ';',encoding='ISO-8859-1',  skiprows=8)"
   ]
  },
  {
   "cell_type": "markdown",
   "id": "cdfb06fc",
   "metadata": {},
   "source": [
    "## Informações da estação\n"
   ]
  },
  {
   "cell_type": "code",
   "execution_count": 20,
   "id": "fadb2a05",
   "metadata": {},
   "outputs": [
    {
     "data": {
      "text/html": [
       "<div>\n",
       "<style scoped>\n",
       "    .dataframe tbody tr th:only-of-type {\n",
       "        vertical-align: middle;\n",
       "    }\n",
       "\n",
       "    .dataframe tbody tr th {\n",
       "        vertical-align: top;\n",
       "    }\n",
       "\n",
       "    .dataframe thead th {\n",
       "        text-align: right;\n",
       "    }\n",
       "</style>\n",
       "<table border=\"1\" class=\"dataframe\">\n",
       "  <thead>\n",
       "    <tr style=\"text-align: right;\">\n",
       "      <th></th>\n",
       "      <th>REGIAO:</th>\n",
       "      <th>N</th>\n",
       "    </tr>\n",
       "  </thead>\n",
       "  <tbody>\n",
       "    <tr>\n",
       "      <th>0</th>\n",
       "      <td>UF:</td>\n",
       "      <td>RO</td>\n",
       "    </tr>\n",
       "    <tr>\n",
       "      <th>1</th>\n",
       "      <td>ESTACAO:</td>\n",
       "      <td>VILHENA</td>\n",
       "    </tr>\n",
       "    <tr>\n",
       "      <th>2</th>\n",
       "      <td>CODIGO (WMO):</td>\n",
       "      <td>A938</td>\n",
       "    </tr>\n",
       "    <tr>\n",
       "      <th>3</th>\n",
       "      <td>LATITUDE:</td>\n",
       "      <td>-12,73499999</td>\n",
       "    </tr>\n",
       "    <tr>\n",
       "      <th>4</th>\n",
       "      <td>LONGITUDE:</td>\n",
       "      <td>-60,15777777</td>\n",
       "    </tr>\n",
       "    <tr>\n",
       "      <th>5</th>\n",
       "      <td>ALTITUDE:</td>\n",
       "      <td>583,3</td>\n",
       "    </tr>\n",
       "    <tr>\n",
       "      <th>6</th>\n",
       "      <td>DATA DE FUNDACAO:</td>\n",
       "      <td>26/08/08</td>\n",
       "    </tr>\n",
       "  </tbody>\n",
       "</table>\n",
       "</div>"
      ],
      "text/plain": [
       "             REGIAO:             N\n",
       "0                UF:            RO\n",
       "1           ESTACAO:       VILHENA\n",
       "2      CODIGO (WMO):          A938\n",
       "3          LATITUDE:  -12,73499999\n",
       "4         LONGITUDE:  -60,15777777\n",
       "5          ALTITUDE:         583,3\n",
       "6  DATA DE FUNDACAO:      26/08/08"
      ]
     },
     "execution_count": 20,
     "metadata": {},
     "output_type": "execute_result"
    }
   ],
   "source": [
    "header_vilhena_2022"
   ]
  },
  {
   "cell_type": "markdown",
   "id": "fb82b537",
   "metadata": {},
   "source": [
    "## Variáveis disponíveis no banco"
   ]
  },
  {
   "cell_type": "code",
   "execution_count": 4,
   "id": "81a7971b",
   "metadata": {},
   "outputs": [
    {
     "data": {
      "text/html": [
       "<div>\n",
       "<style scoped>\n",
       "    .dataframe tbody tr th:only-of-type {\n",
       "        vertical-align: middle;\n",
       "    }\n",
       "\n",
       "    .dataframe tbody tr th {\n",
       "        vertical-align: top;\n",
       "    }\n",
       "\n",
       "    .dataframe thead th {\n",
       "        text-align: right;\n",
       "    }\n",
       "</style>\n",
       "<table border=\"1\" class=\"dataframe\">\n",
       "  <thead>\n",
       "    <tr style=\"text-align: right;\">\n",
       "      <th></th>\n",
       "      <th>Variáveis</th>\n",
       "      <th>Tipo</th>\n",
       "    </tr>\n",
       "  </thead>\n",
       "  <tbody>\n",
       "    <tr>\n",
       "      <th>0</th>\n",
       "      <td>Data</td>\n",
       "      <td>object</td>\n",
       "    </tr>\n",
       "    <tr>\n",
       "      <th>1</th>\n",
       "      <td>Hora UTC</td>\n",
       "      <td>object</td>\n",
       "    </tr>\n",
       "    <tr>\n",
       "      <th>2</th>\n",
       "      <td>PRECIPITAÇÃO TOTAL, HORÁRIO (mm)</td>\n",
       "      <td>object</td>\n",
       "    </tr>\n",
       "    <tr>\n",
       "      <th>3</th>\n",
       "      <td>PRESSAO ATMOSFERICA AO NIVEL DA ESTACAO, HORAR...</td>\n",
       "      <td>object</td>\n",
       "    </tr>\n",
       "    <tr>\n",
       "      <th>4</th>\n",
       "      <td>PRESSÃO ATMOSFERICA MAX.NA HORA ANT. (AUT) (mB)</td>\n",
       "      <td>object</td>\n",
       "    </tr>\n",
       "    <tr>\n",
       "      <th>5</th>\n",
       "      <td>PRESSÃO ATMOSFERICA MIN. NA HORA ANT. (AUT) (mB)</td>\n",
       "      <td>object</td>\n",
       "    </tr>\n",
       "    <tr>\n",
       "      <th>6</th>\n",
       "      <td>RADIACAO GLOBAL (Kj/m²)</td>\n",
       "      <td>object</td>\n",
       "    </tr>\n",
       "    <tr>\n",
       "      <th>7</th>\n",
       "      <td>TEMPERATURA DO AR - BULBO SECO, HORARIA (°C)</td>\n",
       "      <td>object</td>\n",
       "    </tr>\n",
       "    <tr>\n",
       "      <th>8</th>\n",
       "      <td>TEMPERATURA DO PONTO DE ORVALHO (°C)</td>\n",
       "      <td>object</td>\n",
       "    </tr>\n",
       "    <tr>\n",
       "      <th>9</th>\n",
       "      <td>TEMPERATURA MÁXIMA NA HORA ANT. (AUT) (°C)</td>\n",
       "      <td>object</td>\n",
       "    </tr>\n",
       "    <tr>\n",
       "      <th>10</th>\n",
       "      <td>TEMPERATURA MÍNIMA NA HORA ANT. (AUT) (°C)</td>\n",
       "      <td>object</td>\n",
       "    </tr>\n",
       "    <tr>\n",
       "      <th>11</th>\n",
       "      <td>TEMPERATURA ORVALHO MAX. NA HORA ANT. (AUT) (°C)</td>\n",
       "      <td>object</td>\n",
       "    </tr>\n",
       "    <tr>\n",
       "      <th>12</th>\n",
       "      <td>TEMPERATURA ORVALHO MIN. NA HORA ANT. (AUT) (°C)</td>\n",
       "      <td>object</td>\n",
       "    </tr>\n",
       "    <tr>\n",
       "      <th>13</th>\n",
       "      <td>UMIDADE REL. MAX. NA HORA ANT. (AUT) (%)</td>\n",
       "      <td>float64</td>\n",
       "    </tr>\n",
       "    <tr>\n",
       "      <th>14</th>\n",
       "      <td>UMIDADE REL. MIN. NA HORA ANT. (AUT) (%)</td>\n",
       "      <td>float64</td>\n",
       "    </tr>\n",
       "    <tr>\n",
       "      <th>15</th>\n",
       "      <td>UMIDADE RELATIVA DO AR, HORARIA (%)</td>\n",
       "      <td>float64</td>\n",
       "    </tr>\n",
       "    <tr>\n",
       "      <th>16</th>\n",
       "      <td>VENTO, DIREÇÃO HORARIA (gr) (° (gr))</td>\n",
       "      <td>float64</td>\n",
       "    </tr>\n",
       "    <tr>\n",
       "      <th>17</th>\n",
       "      <td>VENTO, RAJADA MAXIMA (m/s)</td>\n",
       "      <td>object</td>\n",
       "    </tr>\n",
       "    <tr>\n",
       "      <th>18</th>\n",
       "      <td>VENTO, VELOCIDADE HORARIA (m/s)</td>\n",
       "      <td>object</td>\n",
       "    </tr>\n",
       "    <tr>\n",
       "      <th>19</th>\n",
       "      <td>Unnamed: 19</td>\n",
       "      <td>float64</td>\n",
       "    </tr>\n",
       "  </tbody>\n",
       "</table>\n",
       "</div>"
      ],
      "text/plain": [
       "                                            Variáveis     Tipo\n",
       "0                                                Data   object\n",
       "1                                            Hora UTC   object\n",
       "2                    PRECIPITAÇÃO TOTAL, HORÁRIO (mm)   object\n",
       "3   PRESSAO ATMOSFERICA AO NIVEL DA ESTACAO, HORAR...   object\n",
       "4     PRESSÃO ATMOSFERICA MAX.NA HORA ANT. (AUT) (mB)   object\n",
       "5    PRESSÃO ATMOSFERICA MIN. NA HORA ANT. (AUT) (mB)   object\n",
       "6                             RADIACAO GLOBAL (Kj/m²)   object\n",
       "7        TEMPERATURA DO AR - BULBO SECO, HORARIA (°C)   object\n",
       "8                TEMPERATURA DO PONTO DE ORVALHO (°C)   object\n",
       "9          TEMPERATURA MÁXIMA NA HORA ANT. (AUT) (°C)   object\n",
       "10         TEMPERATURA MÍNIMA NA HORA ANT. (AUT) (°C)   object\n",
       "11   TEMPERATURA ORVALHO MAX. NA HORA ANT. (AUT) (°C)   object\n",
       "12   TEMPERATURA ORVALHO MIN. NA HORA ANT. (AUT) (°C)   object\n",
       "13           UMIDADE REL. MAX. NA HORA ANT. (AUT) (%)  float64\n",
       "14           UMIDADE REL. MIN. NA HORA ANT. (AUT) (%)  float64\n",
       "15                UMIDADE RELATIVA DO AR, HORARIA (%)  float64\n",
       "16               VENTO, DIREÇÃO HORARIA (gr) (° (gr))  float64\n",
       "17                         VENTO, RAJADA MAXIMA (m/s)   object\n",
       "18                    VENTO, VELOCIDADE HORARIA (m/s)   object\n",
       "19                                        Unnamed: 19  float64"
      ]
     },
     "execution_count": 4,
     "metadata": {},
     "output_type": "execute_result"
    }
   ],
   "source": [
    "pd.DataFrame(vilhena_2022.dtypes).reset_index().rename(columns={'index':'Variáveis',0:'Tipo'})"
   ]
  },
  {
   "cell_type": "markdown",
   "id": "8c13b379",
   "metadata": {},
   "source": [
    "## Tratamento dos dados"
   ]
  },
  {
   "cell_type": "code",
   "execution_count": 18,
   "id": "d91555a3",
   "metadata": {},
   "outputs": [],
   "source": [
    "#Tratamento dos dados de tempo\n",
    "#Juntando a data e a hora, transformando no tipo datetime e convertendo para o horario brasileiro\n",
    "\n",
    "delta = timedelta(hours=3) #diferença entre horário da base de dados (UTC) e Brasil\n",
    "\n",
    "vilhena_2020['Datetime'] = pd.to_datetime(vilhena_2020['Data']+' ' + vilhena_2020['Hora UTC'].str[:4]) - delta\n",
    "vilhena_2021['Datetime'] = pd.to_datetime(vilhena_2021['Data']+' ' + vilhena_2021['Hora UTC'].str[:4]) - delta\n",
    "vilhena_2022['Datetime'] = pd.to_datetime(vilhena_2022['Data']+' ' + vilhena_2022['Hora UTC'].str[:4]) - delta\n",
    "\n",
    "#Excluindo as colunas Data, Hora UTC e Unnamed: 19\n",
    "\n",
    "vilhena_2020.drop(['Data','Hora UTC','Unnamed: 19'],axis=1,inplace=True)\n",
    "\n",
    "#Criando novas colunas Data e Hora recalculadas\n",
    "\n",
    "vilhena_2020['Data'] = vilhena_2020['Datetime'].dt.date\n",
    "vilhena_2021['Data'] = vilhena_2021['Datetime'].dt.date\n",
    "vilhena_2022['Data'] = vilhena_2022['Datetime'].dt.date\n",
    "vilhena_2020['Hora'] = vilhena_2020['Datetime'].dt.time\n",
    "vilhena_2021['Hora'] = vilhena_2021['Datetime'].dt.time\n",
    "vilhena_2022['Hora'] = vilhena_2022['Datetime'].dt.time\n",
    "\n",
    "# Criando coluna mês\n",
    "vilhena_2020['Mês'] = vilhena_2020['Datetime'].dt.month\n",
    "vilhena_2021['Mês'] = vilhena_2021['Datetime'].dt.month\n",
    "vilhena_2022['Mês'] = vilhena_2022['Datetime'].dt.month\n",
    "\n"
   ]
  },
  {
   "cell_type": "code",
   "execution_count": 19,
   "id": "e83dc295",
   "metadata": {},
   "outputs": [],
   "source": [
    "#Transformando as variáveis 'RADIACAO GLOBAL (Kj/m²)' em float \n",
    "vilhena_2020['RADIACAO GLOBAL (Kj/m²)']  = pd.to_numeric(vilhena_2020['RADIACAO GLOBAL (Kj/m²)'].str.replace(',', '.'))\n",
    "vilhena_2021['RADIACAO GLOBAL (Kj/m²)']  = pd.to_numeric(vilhena_2021['RADIACAO GLOBAL (Kj/m²)'].str.replace(',', '.'))\n",
    "vilhena_2022['RADIACAO GLOBAL (Kj/m²)']  = pd.to_numeric(vilhena_2022['RADIACAO GLOBAL (Kj/m²)'].str.replace(',', '.'))\n",
    "#Criando coluna com a radiação em wh/m²\n",
    "vilhena_2020['RADIACAO GLOBAL (KWh/m²)'] = vilhena_2020['RADIACAO GLOBAL (Kj/m²)'] / 3600\n",
    "vilhena_2021['RADIACAO GLOBAL (KWh/m²)'] = vilhena_2021['RADIACAO GLOBAL (Kj/m²)'] / 3600\n",
    "vilhena_2022['RADIACAO GLOBAL (KWh/m²)'] = vilhena_2021['RADIACAO GLOBAL (Kj/m²)'] / 3600"
   ]
  },
  {
   "cell_type": "markdown",
   "id": "9a83445c",
   "metadata": {},
   "source": [
    "## Vilhena 2020"
   ]
  },
  {
   "cell_type": "markdown",
   "id": "20e42957",
   "metadata": {},
   "source": [
    "### Informações Gerais dos Dados"
   ]
  },
  {
   "cell_type": "code",
   "execution_count": 21,
   "id": "aa939217",
   "metadata": {
    "scrolled": false
   },
   "outputs": [
    {
     "name": "stdout",
     "output_type": "stream",
     "text": [
      "<class 'pandas.core.frame.DataFrame'>\n",
      "RangeIndex: 8784 entries, 0 to 8783\n",
      "Data columns (total 22 columns):\n",
      " #   Column                                                 Non-Null Count  Dtype         \n",
      "---  ------                                                 --------------  -----         \n",
      " 0   PRECIPITAÇÃO TOTAL, HORÁRIO (mm)                       8064 non-null   object        \n",
      " 1   PRESSAO ATMOSFERICA AO NIVEL DA ESTACAO, HORARIA (mB)  8784 non-null   object        \n",
      " 2   PRESSÃO ATMOSFERICA MAX.NA HORA ANT. (AUT) (mB)        8784 non-null   object        \n",
      " 3   PRESSÃO ATMOSFERICA MIN. NA HORA ANT. (AUT) (mB)       8784 non-null   object        \n",
      " 4   RADIACAO GLOBAL (Kj/m²)                                4695 non-null   float64       \n",
      " 5   TEMPERATURA DO AR - BULBO SECO, HORARIA (°C)           8784 non-null   object        \n",
      " 6   TEMPERATURA DO PONTO DE ORVALHO (°C)                   8784 non-null   object        \n",
      " 7   TEMPERATURA MÁXIMA NA HORA ANT. (AUT) (°C)             8784 non-null   object        \n",
      " 8   TEMPERATURA MÍNIMA NA HORA ANT. (AUT) (°C)             8784 non-null   object        \n",
      " 9   TEMPERATURA ORVALHO MAX. NA HORA ANT. (AUT) (°C)       8784 non-null   object        \n",
      " 10  TEMPERATURA ORVALHO MIN. NA HORA ANT. (AUT) (°C)       8784 non-null   object        \n",
      " 11  UMIDADE REL. MAX. NA HORA ANT. (AUT) (%)               8784 non-null   int64         \n",
      " 12  UMIDADE REL. MIN. NA HORA ANT. (AUT) (%)               8784 non-null   int64         \n",
      " 13  UMIDADE RELATIVA DO AR, HORARIA (%)                    8784 non-null   int64         \n",
      " 14  VENTO, DIREÇÃO HORARIA (gr) (° (gr))                   6665 non-null   float64       \n",
      " 15  VENTO, RAJADA MAXIMA (m/s)                             6667 non-null   object        \n",
      " 16  VENTO, VELOCIDADE HORARIA (m/s)                        6666 non-null   object        \n",
      " 17  Datetime                                               8784 non-null   datetime64[ns]\n",
      " 18  Data                                                   8784 non-null   object        \n",
      " 19  Hora                                                   8784 non-null   object        \n",
      " 20  Mês                                                    8784 non-null   int64         \n",
      " 21  RADIACAO GLOBAL (KWh/m²)                               4695 non-null   float64       \n",
      "dtypes: datetime64[ns](1), float64(3), int64(4), object(14)\n",
      "memory usage: 1.5+ MB\n"
     ]
    }
   ],
   "source": [
    "vilhena_2020.info()"
   ]
  },
  {
   "cell_type": "markdown",
   "id": "d11e0523",
   "metadata": {},
   "source": [
    "### Número de dias na base de dados 2020"
   ]
  },
  {
   "cell_type": "code",
   "execution_count": 22,
   "id": "854a96f0",
   "metadata": {},
   "outputs": [
    {
     "data": {
      "text/plain": [
       "367"
      ]
     },
     "execution_count": 22,
     "metadata": {},
     "output_type": "execute_result"
    }
   ],
   "source": [
    "#número de dias na base\n",
    "vilhena_2020['Data'].nunique()"
   ]
  },
  {
   "cell_type": "markdown",
   "id": "6302e728",
   "metadata": {},
   "source": [
    "### Quantidade de Registros totais de radiação para cada hora "
   ]
  },
  {
   "cell_type": "code",
   "execution_count": 23,
   "id": "4dfc0205",
   "metadata": {},
   "outputs": [
    {
     "data": {
      "text/html": [
       "<div>\n",
       "<style scoped>\n",
       "    .dataframe tbody tr th:only-of-type {\n",
       "        vertical-align: middle;\n",
       "    }\n",
       "\n",
       "    .dataframe tbody tr th {\n",
       "        vertical-align: top;\n",
       "    }\n",
       "\n",
       "    .dataframe thead th {\n",
       "        text-align: right;\n",
       "    }\n",
       "</style>\n",
       "<table border=\"1\" class=\"dataframe\">\n",
       "  <thead>\n",
       "    <tr style=\"text-align: right;\">\n",
       "      <th></th>\n",
       "      <th>RADIACAO GLOBAL (KWh/m²)</th>\n",
       "    </tr>\n",
       "    <tr>\n",
       "      <th>Hora</th>\n",
       "      <th></th>\n",
       "    </tr>\n",
       "  </thead>\n",
       "  <tbody>\n",
       "    <tr>\n",
       "      <th>00:00:00</th>\n",
       "      <td>4</td>\n",
       "    </tr>\n",
       "    <tr>\n",
       "      <th>01:00:00</th>\n",
       "      <td>2</td>\n",
       "    </tr>\n",
       "    <tr>\n",
       "      <th>02:00:00</th>\n",
       "      <td>3</td>\n",
       "    </tr>\n",
       "    <tr>\n",
       "      <th>03:00:00</th>\n",
       "      <td>7</td>\n",
       "    </tr>\n",
       "    <tr>\n",
       "      <th>04:00:00</th>\n",
       "      <td>8</td>\n",
       "    </tr>\n",
       "    <tr>\n",
       "      <th>05:00:00</th>\n",
       "      <td>8</td>\n",
       "    </tr>\n",
       "    <tr>\n",
       "      <th>06:00:00</th>\n",
       "      <td>4</td>\n",
       "    </tr>\n",
       "    <tr>\n",
       "      <th>07:00:00</th>\n",
       "      <td>125</td>\n",
       "    </tr>\n",
       "    <tr>\n",
       "      <th>08:00:00</th>\n",
       "      <td>366</td>\n",
       "    </tr>\n",
       "    <tr>\n",
       "      <th>09:00:00</th>\n",
       "      <td>366</td>\n",
       "    </tr>\n",
       "    <tr>\n",
       "      <th>10:00:00</th>\n",
       "      <td>366</td>\n",
       "    </tr>\n",
       "    <tr>\n",
       "      <th>11:00:00</th>\n",
       "      <td>366</td>\n",
       "    </tr>\n",
       "    <tr>\n",
       "      <th>12:00:00</th>\n",
       "      <td>366</td>\n",
       "    </tr>\n",
       "    <tr>\n",
       "      <th>13:00:00</th>\n",
       "      <td>366</td>\n",
       "    </tr>\n",
       "    <tr>\n",
       "      <th>14:00:00</th>\n",
       "      <td>366</td>\n",
       "    </tr>\n",
       "    <tr>\n",
       "      <th>15:00:00</th>\n",
       "      <td>366</td>\n",
       "    </tr>\n",
       "    <tr>\n",
       "      <th>16:00:00</th>\n",
       "      <td>366</td>\n",
       "    </tr>\n",
       "    <tr>\n",
       "      <th>17:00:00</th>\n",
       "      <td>366</td>\n",
       "    </tr>\n",
       "    <tr>\n",
       "      <th>18:00:00</th>\n",
       "      <td>366</td>\n",
       "    </tr>\n",
       "    <tr>\n",
       "      <th>19:00:00</th>\n",
       "      <td>366</td>\n",
       "    </tr>\n",
       "    <tr>\n",
       "      <th>20:00:00</th>\n",
       "      <td>123</td>\n",
       "    </tr>\n",
       "    <tr>\n",
       "      <th>21:00:00</th>\n",
       "      <td>8</td>\n",
       "    </tr>\n",
       "    <tr>\n",
       "      <th>22:00:00</th>\n",
       "      <td>4</td>\n",
       "    </tr>\n",
       "    <tr>\n",
       "      <th>23:00:00</th>\n",
       "      <td>7</td>\n",
       "    </tr>\n",
       "  </tbody>\n",
       "</table>\n",
       "</div>"
      ],
      "text/plain": [
       "          RADIACAO GLOBAL (KWh/m²)\n",
       "Hora                              \n",
       "00:00:00                         4\n",
       "01:00:00                         2\n",
       "02:00:00                         3\n",
       "03:00:00                         7\n",
       "04:00:00                         8\n",
       "05:00:00                         8\n",
       "06:00:00                         4\n",
       "07:00:00                       125\n",
       "08:00:00                       366\n",
       "09:00:00                       366\n",
       "10:00:00                       366\n",
       "11:00:00                       366\n",
       "12:00:00                       366\n",
       "13:00:00                       366\n",
       "14:00:00                       366\n",
       "15:00:00                       366\n",
       "16:00:00                       366\n",
       "17:00:00                       366\n",
       "18:00:00                       366\n",
       "19:00:00                       366\n",
       "20:00:00                       123\n",
       "21:00:00                         8\n",
       "22:00:00                         4\n",
       "23:00:00                         7"
      ]
     },
     "execution_count": 23,
     "metadata": {},
     "output_type": "execute_result"
    }
   ],
   "source": [
    "pd.DataFrame(vilhena_2020.groupby('Hora')['RADIACAO GLOBAL (KWh/m²)'].count() )"
   ]
  },
  {
   "cell_type": "markdown",
   "id": "96e1a6ed",
   "metadata": {},
   "source": [
    "**No período de 8 as 19 horas praticamente todos os dias tiveram medição.**"
   ]
  },
  {
   "cell_type": "markdown",
   "id": "0cd29082",
   "metadata": {},
   "source": [
    "Há alguns poucos registros de medições de radiação em horários poucos prováveis, após as 19:00 e antes das 05:00.\n",
    "\n",
    "Como exemplo, seguem medições as 2 da manhã:"
   ]
  },
  {
   "cell_type": "code",
   "execution_count": 24,
   "id": "e42e695c",
   "metadata": {},
   "outputs": [
    {
     "data": {
      "text/html": [
       "<div>\n",
       "<style scoped>\n",
       "    .dataframe tbody tr th:only-of-type {\n",
       "        vertical-align: middle;\n",
       "    }\n",
       "\n",
       "    .dataframe tbody tr th {\n",
       "        vertical-align: top;\n",
       "    }\n",
       "\n",
       "    .dataframe thead th {\n",
       "        text-align: right;\n",
       "    }\n",
       "</style>\n",
       "<table border=\"1\" class=\"dataframe\">\n",
       "  <thead>\n",
       "    <tr style=\"text-align: right;\">\n",
       "      <th></th>\n",
       "      <th>Datetime</th>\n",
       "      <th>RADIACAO GLOBAL (KWh/m²)</th>\n",
       "    </tr>\n",
       "  </thead>\n",
       "  <tbody>\n",
       "    <tr>\n",
       "      <th>3029</th>\n",
       "      <td>2020-05-06 02:00:00</td>\n",
       "      <td>0.000583</td>\n",
       "    </tr>\n",
       "    <tr>\n",
       "      <th>6821</th>\n",
       "      <td>2020-10-11 02:00:00</td>\n",
       "      <td>0.000306</td>\n",
       "    </tr>\n",
       "    <tr>\n",
       "      <th>8453</th>\n",
       "      <td>2020-12-18 02:00:00</td>\n",
       "      <td>0.000333</td>\n",
       "    </tr>\n",
       "  </tbody>\n",
       "</table>\n",
       "</div>"
      ],
      "text/plain": [
       "                Datetime  RADIACAO GLOBAL (KWh/m²)\n",
       "3029 2020-05-06 02:00:00                  0.000583\n",
       "6821 2020-10-11 02:00:00                  0.000306\n",
       "8453 2020-12-18 02:00:00                  0.000333"
      ]
     },
     "execution_count": 24,
     "metadata": {},
     "output_type": "execute_result"
    }
   ],
   "source": [
    "hora = data=pd.to_datetime('02:00:00').time()\n",
    "vilhena_2020[(vilhena_2020['RADIACAO GLOBAL (KWh/m²)'] >0) & (vilhena_2020['Hora'] == hora)][['Datetime','RADIACAO GLOBAL (KWh/m²)']]"
   ]
  },
  {
   "cell_type": "markdown",
   "id": "2f42a57c",
   "metadata": {},
   "source": [
    "### Quantidade de Registros totais de radiação para cada dia do ano."
   ]
  },
  {
   "cell_type": "code",
   "execution_count": 25,
   "id": "1d3a5e24",
   "metadata": {},
   "outputs": [
    {
     "data": {
      "text/html": [
       "<div>\n",
       "<style scoped>\n",
       "    .dataframe tbody tr th:only-of-type {\n",
       "        vertical-align: middle;\n",
       "    }\n",
       "\n",
       "    .dataframe tbody tr th {\n",
       "        vertical-align: top;\n",
       "    }\n",
       "\n",
       "    .dataframe thead th {\n",
       "        text-align: right;\n",
       "    }\n",
       "</style>\n",
       "<table border=\"1\" class=\"dataframe\">\n",
       "  <thead>\n",
       "    <tr style=\"text-align: right;\">\n",
       "      <th></th>\n",
       "      <th>RADIACAO GLOBAL (KWh/m²)</th>\n",
       "    </tr>\n",
       "    <tr>\n",
       "      <th>Data</th>\n",
       "      <th></th>\n",
       "    </tr>\n",
       "  </thead>\n",
       "  <tbody>\n",
       "    <tr>\n",
       "      <th>2019-12-31</th>\n",
       "      <td>0</td>\n",
       "    </tr>\n",
       "    <tr>\n",
       "      <th>2020-06-19</th>\n",
       "      <td>12</td>\n",
       "    </tr>\n",
       "    <tr>\n",
       "      <th>2020-06-20</th>\n",
       "      <td>12</td>\n",
       "    </tr>\n",
       "    <tr>\n",
       "      <th>2020-06-21</th>\n",
       "      <td>12</td>\n",
       "    </tr>\n",
       "    <tr>\n",
       "      <th>2020-06-22</th>\n",
       "      <td>12</td>\n",
       "    </tr>\n",
       "    <tr>\n",
       "      <th>...</th>\n",
       "      <td>...</td>\n",
       "    </tr>\n",
       "    <tr>\n",
       "      <th>2020-12-18</th>\n",
       "      <td>16</td>\n",
       "    </tr>\n",
       "    <tr>\n",
       "      <th>2020-10-14</th>\n",
       "      <td>16</td>\n",
       "    </tr>\n",
       "    <tr>\n",
       "      <th>2020-05-23</th>\n",
       "      <td>16</td>\n",
       "    </tr>\n",
       "    <tr>\n",
       "      <th>2020-05-07</th>\n",
       "      <td>17</td>\n",
       "    </tr>\n",
       "    <tr>\n",
       "      <th>2020-02-04</th>\n",
       "      <td>17</td>\n",
       "    </tr>\n",
       "  </tbody>\n",
       "</table>\n",
       "<p>367 rows × 1 columns</p>\n",
       "</div>"
      ],
      "text/plain": [
       "            RADIACAO GLOBAL (KWh/m²)\n",
       "Data                                \n",
       "2019-12-31                         0\n",
       "2020-06-19                        12\n",
       "2020-06-20                        12\n",
       "2020-06-21                        12\n",
       "2020-06-22                        12\n",
       "...                              ...\n",
       "2020-12-18                        16\n",
       "2020-10-14                        16\n",
       "2020-05-23                        16\n",
       "2020-05-07                        17\n",
       "2020-02-04                        17\n",
       "\n",
       "[367 rows x 1 columns]"
      ]
     },
     "execution_count": 25,
     "metadata": {},
     "output_type": "execute_result"
    }
   ],
   "source": [
    "pd.DataFrame(vilhena_2020.groupby('Data')['RADIACAO GLOBAL (KWh/m²)'].count() ).sort_values(by='RADIACAO GLOBAL (KWh/m²)')"
   ]
  },
  {
   "cell_type": "markdown",
   "id": "e62de52f",
   "metadata": {},
   "source": [
    "### Quantidade de Registros de radiação medidos nos dias X quantidades de dias"
   ]
  },
  {
   "cell_type": "markdown",
   "id": "5a0fa89b",
   "metadata": {},
   "source": [
    "Mais de 99% dos dias apresentaram 12 ou mais medições.\n",
    "\n",
    "Temos em média cerca de 13 medições por dia."
   ]
  },
  {
   "cell_type": "code",
   "execution_count": 66,
   "id": "9b23e8a9",
   "metadata": {
    "scrolled": true
   },
   "outputs": [
    {
     "data": {
      "text/html": [
       "<div>\n",
       "<style scoped>\n",
       "    .dataframe tbody tr th:only-of-type {\n",
       "        vertical-align: middle;\n",
       "    }\n",
       "\n",
       "    .dataframe tbody tr th {\n",
       "        vertical-align: top;\n",
       "    }\n",
       "\n",
       "    .dataframe thead th {\n",
       "        text-align: right;\n",
       "    }\n",
       "</style>\n",
       "<table border=\"1\" class=\"dataframe\">\n",
       "  <thead>\n",
       "    <tr style=\"text-align: right;\">\n",
       "      <th></th>\n",
       "      <th>Qtd de Medições</th>\n",
       "      <th>Nº de dias</th>\n",
       "    </tr>\n",
       "  </thead>\n",
       "  <tbody>\n",
       "    <tr>\n",
       "      <th>6</th>\n",
       "      <td>0</td>\n",
       "      <td>1</td>\n",
       "    </tr>\n",
       "    <tr>\n",
       "      <th>0</th>\n",
       "      <td>12</td>\n",
       "      <td>175</td>\n",
       "    </tr>\n",
       "    <tr>\n",
       "      <th>1</th>\n",
       "      <td>13</td>\n",
       "      <td>104</td>\n",
       "    </tr>\n",
       "    <tr>\n",
       "      <th>2</th>\n",
       "      <td>14</td>\n",
       "      <td>70</td>\n",
       "    </tr>\n",
       "    <tr>\n",
       "      <th>3</th>\n",
       "      <td>15</td>\n",
       "      <td>11</td>\n",
       "    </tr>\n",
       "    <tr>\n",
       "      <th>4</th>\n",
       "      <td>16</td>\n",
       "      <td>4</td>\n",
       "    </tr>\n",
       "    <tr>\n",
       "      <th>5</th>\n",
       "      <td>17</td>\n",
       "      <td>2</td>\n",
       "    </tr>\n",
       "  </tbody>\n",
       "</table>\n",
       "</div>"
      ],
      "text/plain": [
       "   Qtd de Medições  Nº de dias\n",
       "6                0           1\n",
       "0               12         175\n",
       "1               13         104\n",
       "2               14          70\n",
       "3               15          11\n",
       "4               16           4\n",
       "5               17           2"
      ]
     },
     "execution_count": 66,
     "metadata": {},
     "output_type": "execute_result"
    }
   ],
   "source": [
    "df_cont_med_rad = pd.DataFrame(vilhena_2020.groupby('Data')['RADIACAO GLOBAL (KWh/m²)'].count().value_counts())\n",
    "df_cont_med_rad.reset_index(inplace=True)\n",
    "df_cont_med_rad.columns = ['Qtd de Medições','Nº de dias']\n",
    "df_cont_med_rad.sort_values(by='Qtd de Medições',)"
   ]
  },
  {
   "cell_type": "markdown",
   "id": "15194430",
   "metadata": {},
   "source": [
    "**Média de medições por dia**"
   ]
  },
  {
   "cell_type": "code",
   "execution_count": 67,
   "id": "cc8036f8",
   "metadata": {},
   "outputs": [
    {
     "data": {
      "text/plain": [
       "12.792915531335149"
      ]
     },
     "execution_count": 67,
     "metadata": {},
     "output_type": "execute_result"
    }
   ],
   "source": [
    "(df_cont_med_rad['Qtd de Medições'] * df_cont_med_rad['Nº de dias']).sum() / df_cont_med_rad['Nº de dias'].sum()"
   ]
  },
  {
   "cell_type": "markdown",
   "id": "11e36f69",
   "metadata": {},
   "source": [
    "**Nº de dias com 12 medições ou mais**"
   ]
  },
  {
   "cell_type": "code",
   "execution_count": 78,
   "id": "491aa0b6",
   "metadata": {},
   "outputs": [
    {
     "data": {
      "text/plain": [
       "366"
      ]
     },
     "execution_count": 78,
     "metadata": {},
     "output_type": "execute_result"
    }
   ],
   "source": [
    "selecao =df_cont_med_rad['Qtd de Medições'] >= 12\n",
    "df_cont_med_rad[selecao]['Nº de dias'].sum()"
   ]
  },
  {
   "cell_type": "markdown",
   "id": "0b771ec0",
   "metadata": {},
   "source": [
    "**Percentual de dias com 12 ou mais medições**"
   ]
  },
  {
   "cell_type": "code",
   "execution_count": 81,
   "id": "46b4859f",
   "metadata": {},
   "outputs": [
    {
     "data": {
      "text/plain": [
       "0.997275204359673"
      ]
     },
     "execution_count": 81,
     "metadata": {},
     "output_type": "execute_result"
    }
   ],
   "source": [
    "df_cont_med_rad[selecao]['Nº de dias'].sum()/df_cont_med_rad['Nº de dias'].sum()"
   ]
  },
  {
   "cell_type": "markdown",
   "id": "b3daffbf",
   "metadata": {},
   "source": [
    "### Quantidade de Registros de radiação medidos por mês"
   ]
  },
  {
   "cell_type": "code",
   "execution_count": 45,
   "id": "3ebc60c1",
   "metadata": {},
   "outputs": [
    {
     "data": {
      "text/html": [
       "<div>\n",
       "<style scoped>\n",
       "    .dataframe tbody tr th:only-of-type {\n",
       "        vertical-align: middle;\n",
       "    }\n",
       "\n",
       "    .dataframe tbody tr th {\n",
       "        vertical-align: top;\n",
       "    }\n",
       "\n",
       "    .dataframe thead th {\n",
       "        text-align: right;\n",
       "    }\n",
       "</style>\n",
       "<table border=\"1\" class=\"dataframe\">\n",
       "  <thead>\n",
       "    <tr style=\"text-align: right;\">\n",
       "      <th></th>\n",
       "      <th>Qtd de Medições</th>\n",
       "    </tr>\n",
       "    <tr>\n",
       "      <th>Mês</th>\n",
       "      <th></th>\n",
       "    </tr>\n",
       "  </thead>\n",
       "  <tbody>\n",
       "    <tr>\n",
       "      <th>1</th>\n",
       "      <td>431</td>\n",
       "    </tr>\n",
       "    <tr>\n",
       "      <th>2</th>\n",
       "      <td>387</td>\n",
       "    </tr>\n",
       "    <tr>\n",
       "      <th>3</th>\n",
       "      <td>397</td>\n",
       "    </tr>\n",
       "    <tr>\n",
       "      <th>4</th>\n",
       "      <td>369</td>\n",
       "    </tr>\n",
       "    <tr>\n",
       "      <th>5</th>\n",
       "      <td>383</td>\n",
       "    </tr>\n",
       "    <tr>\n",
       "      <th>6</th>\n",
       "      <td>364</td>\n",
       "    </tr>\n",
       "    <tr>\n",
       "      <th>7</th>\n",
       "      <td>372</td>\n",
       "    </tr>\n",
       "    <tr>\n",
       "      <th>8</th>\n",
       "      <td>373</td>\n",
       "    </tr>\n",
       "    <tr>\n",
       "      <th>9</th>\n",
       "      <td>369</td>\n",
       "    </tr>\n",
       "    <tr>\n",
       "      <th>10</th>\n",
       "      <td>410</td>\n",
       "    </tr>\n",
       "    <tr>\n",
       "      <th>11</th>\n",
       "      <td>405</td>\n",
       "    </tr>\n",
       "    <tr>\n",
       "      <th>12</th>\n",
       "      <td>435</td>\n",
       "    </tr>\n",
       "  </tbody>\n",
       "</table>\n",
       "</div>"
      ],
      "text/plain": [
       "     Qtd de Medições\n",
       "Mês                 \n",
       "1                431\n",
       "2                387\n",
       "3                397\n",
       "4                369\n",
       "5                383\n",
       "6                364\n",
       "7                372\n",
       "8                373\n",
       "9                369\n",
       "10               410\n",
       "11               405\n",
       "12               435"
      ]
     },
     "execution_count": 45,
     "metadata": {},
     "output_type": "execute_result"
    }
   ],
   "source": [
    "df_cont_med_rad_mes = pd.DataFrame(vilhena_2020.groupby ('Mês')['RADIACAO GLOBAL (KWh/m²)'].count())\n",
    "df_cont_med_rad_mes.columns = ['Qtd de Medições']\n",
    "df_cont_med_rad_mes "
   ]
  },
  {
   "cell_type": "markdown",
   "id": "ee5387bf",
   "metadata": {},
   "source": [
    "### Quantidade de Registros de radiação medidos por mês e  por dia"
   ]
  },
  {
   "cell_type": "code",
   "execution_count": 60,
   "id": "75983f73",
   "metadata": {},
   "outputs": [
    {
     "data": {
      "text/html": [
       "<div>\n",
       "<style scoped>\n",
       "    .dataframe tbody tr th:only-of-type {\n",
       "        vertical-align: middle;\n",
       "    }\n",
       "\n",
       "    .dataframe tbody tr th {\n",
       "        vertical-align: top;\n",
       "    }\n",
       "\n",
       "    .dataframe thead th {\n",
       "        text-align: right;\n",
       "    }\n",
       "</style>\n",
       "<table border=\"1\" class=\"dataframe\">\n",
       "  <thead>\n",
       "    <tr style=\"text-align: right;\">\n",
       "      <th></th>\n",
       "      <th></th>\n",
       "      <th>Qtd de Medições</th>\n",
       "    </tr>\n",
       "    <tr>\n",
       "      <th>Mês</th>\n",
       "      <th>Data</th>\n",
       "      <th></th>\n",
       "    </tr>\n",
       "  </thead>\n",
       "  <tbody>\n",
       "    <tr>\n",
       "      <th rowspan=\"5\" valign=\"top\">1</th>\n",
       "      <th>2020-01-01</th>\n",
       "      <td>14</td>\n",
       "    </tr>\n",
       "    <tr>\n",
       "      <th>2020-01-02</th>\n",
       "      <td>15</td>\n",
       "    </tr>\n",
       "    <tr>\n",
       "      <th>2020-01-03</th>\n",
       "      <td>14</td>\n",
       "    </tr>\n",
       "    <tr>\n",
       "      <th>2020-01-04</th>\n",
       "      <td>14</td>\n",
       "    </tr>\n",
       "    <tr>\n",
       "      <th>2020-01-05</th>\n",
       "      <td>14</td>\n",
       "    </tr>\n",
       "    <tr>\n",
       "      <th>...</th>\n",
       "      <th>...</th>\n",
       "      <td>...</td>\n",
       "    </tr>\n",
       "    <tr>\n",
       "      <th rowspan=\"5\" valign=\"top\">12</th>\n",
       "      <th>2020-12-27</th>\n",
       "      <td>14</td>\n",
       "    </tr>\n",
       "    <tr>\n",
       "      <th>2020-12-28</th>\n",
       "      <td>14</td>\n",
       "    </tr>\n",
       "    <tr>\n",
       "      <th>2020-12-29</th>\n",
       "      <td>14</td>\n",
       "    </tr>\n",
       "    <tr>\n",
       "      <th>2020-12-30</th>\n",
       "      <td>14</td>\n",
       "    </tr>\n",
       "    <tr>\n",
       "      <th>2020-12-31</th>\n",
       "      <td>14</td>\n",
       "    </tr>\n",
       "  </tbody>\n",
       "</table>\n",
       "<p>367 rows × 1 columns</p>\n",
       "</div>"
      ],
      "text/plain": [
       "                Qtd de Medições\n",
       "Mês Data                       \n",
       "1   2020-01-01               14\n",
       "    2020-01-02               15\n",
       "    2020-01-03               14\n",
       "    2020-01-04               14\n",
       "    2020-01-05               14\n",
       "...                         ...\n",
       "12  2020-12-27               14\n",
       "    2020-12-28               14\n",
       "    2020-12-29               14\n",
       "    2020-12-30               14\n",
       "    2020-12-31               14\n",
       "\n",
       "[367 rows x 1 columns]"
      ]
     },
     "execution_count": 60,
     "metadata": {},
     "output_type": "execute_result"
    }
   ],
   "source": [
    "df_cont_med_rad_mes = pd.DataFrame(vilhena_2020.groupby (['Mês','Data'])['RADIACAO GLOBAL (KWh/m²)'].count())\n",
    "df_cont_med_rad_mes.columns = ['Qtd de Medições']\n",
    "df_cont_med_rad_mes "
   ]
  },
  {
   "cell_type": "markdown",
   "id": "341f33ab",
   "metadata": {},
   "source": [
    "### Radiação média global por mês"
   ]
  },
  {
   "cell_type": "code",
   "execution_count": 84,
   "id": "a49e3bf8",
   "metadata": {},
   "outputs": [
    {
     "data": {
      "text/html": [
       "<div>\n",
       "<style scoped>\n",
       "    .dataframe tbody tr th:only-of-type {\n",
       "        vertical-align: middle;\n",
       "    }\n",
       "\n",
       "    .dataframe tbody tr th {\n",
       "        vertical-align: top;\n",
       "    }\n",
       "\n",
       "    .dataframe thead th {\n",
       "        text-align: right;\n",
       "    }\n",
       "</style>\n",
       "<table border=\"1\" class=\"dataframe\">\n",
       "  <thead>\n",
       "    <tr style=\"text-align: right;\">\n",
       "      <th></th>\n",
       "      <th>Qtd de Medições</th>\n",
       "    </tr>\n",
       "    <tr>\n",
       "      <th>Mês</th>\n",
       "      <th></th>\n",
       "    </tr>\n",
       "  </thead>\n",
       "  <tbody>\n",
       "    <tr>\n",
       "      <th>1</th>\n",
       "      <td>0.354972</td>\n",
       "    </tr>\n",
       "    <tr>\n",
       "      <th>2</th>\n",
       "      <td>0.336184</td>\n",
       "    </tr>\n",
       "    <tr>\n",
       "      <th>3</th>\n",
       "      <td>0.350125</td>\n",
       "    </tr>\n",
       "    <tr>\n",
       "      <th>4</th>\n",
       "      <td>0.392828</td>\n",
       "    </tr>\n",
       "    <tr>\n",
       "      <th>5</th>\n",
       "      <td>0.366271</td>\n",
       "    </tr>\n",
       "    <tr>\n",
       "      <th>6</th>\n",
       "      <td>0.367277</td>\n",
       "    </tr>\n",
       "    <tr>\n",
       "      <th>7</th>\n",
       "      <td>0.420343</td>\n",
       "    </tr>\n",
       "    <tr>\n",
       "      <th>8</th>\n",
       "      <td>0.435694</td>\n",
       "    </tr>\n",
       "    <tr>\n",
       "      <th>9</th>\n",
       "      <td>0.388227</td>\n",
       "    </tr>\n",
       "    <tr>\n",
       "      <th>10</th>\n",
       "      <td>0.375009</td>\n",
       "    </tr>\n",
       "    <tr>\n",
       "      <th>11</th>\n",
       "      <td>0.433493</td>\n",
       "    </tr>\n",
       "    <tr>\n",
       "      <th>12</th>\n",
       "      <td>0.330547</td>\n",
       "    </tr>\n",
       "  </tbody>\n",
       "</table>\n",
       "</div>"
      ],
      "text/plain": [
       "     Qtd de Medições\n",
       "Mês                 \n",
       "1           0.354972\n",
       "2           0.336184\n",
       "3           0.350125\n",
       "4           0.392828\n",
       "5           0.366271\n",
       "6           0.367277\n",
       "7           0.420343\n",
       "8           0.435694\n",
       "9           0.388227\n",
       "10          0.375009\n",
       "11          0.433493\n",
       "12          0.330547"
      ]
     },
     "execution_count": 84,
     "metadata": {},
     "output_type": "execute_result"
    }
   ],
   "source": [
    "df_cont_med_rad_mes = pd.DataFrame(vilhena_2020.groupby (['Mês'])['RADIACAO GLOBAL (KWh/m²)'].mean())\n",
    "df_cont_med_rad_mes.columns = ['Qtd de Medições']\n",
    "df_cont_med_rad_mes "
   ]
  },
  {
   "cell_type": "markdown",
   "id": "bc2a03ed",
   "metadata": {},
   "source": [
    "### Radiação média global por dia"
   ]
  },
  {
   "cell_type": "code",
   "execution_count": 87,
   "id": "690ee49b",
   "metadata": {},
   "outputs": [
    {
     "data": {
      "text/html": [
       "<div>\n",
       "<style scoped>\n",
       "    .dataframe tbody tr th:only-of-type {\n",
       "        vertical-align: middle;\n",
       "    }\n",
       "\n",
       "    .dataframe tbody tr th {\n",
       "        vertical-align: top;\n",
       "    }\n",
       "\n",
       "    .dataframe thead th {\n",
       "        text-align: right;\n",
       "    }\n",
       "</style>\n",
       "<table border=\"1\" class=\"dataframe\">\n",
       "  <thead>\n",
       "    <tr style=\"text-align: right;\">\n",
       "      <th></th>\n",
       "      <th></th>\n",
       "      <th>Radiação Média (kWh/m²)</th>\n",
       "    </tr>\n",
       "    <tr>\n",
       "      <th>Mês</th>\n",
       "      <th>Data</th>\n",
       "      <th></th>\n",
       "    </tr>\n",
       "  </thead>\n",
       "  <tbody>\n",
       "    <tr>\n",
       "      <th rowspan=\"5\" valign=\"top\">1</th>\n",
       "      <th>2020-01-01</th>\n",
       "      <td>0.390560</td>\n",
       "    </tr>\n",
       "    <tr>\n",
       "      <th>2020-01-02</th>\n",
       "      <td>0.200193</td>\n",
       "    </tr>\n",
       "    <tr>\n",
       "      <th>2020-01-03</th>\n",
       "      <td>0.237720</td>\n",
       "    </tr>\n",
       "    <tr>\n",
       "      <th>2020-01-04</th>\n",
       "      <td>0.279550</td>\n",
       "    </tr>\n",
       "    <tr>\n",
       "      <th>2020-01-05</th>\n",
       "      <td>0.233435</td>\n",
       "    </tr>\n",
       "    <tr>\n",
       "      <th>...</th>\n",
       "      <th>...</th>\n",
       "      <td>...</td>\n",
       "    </tr>\n",
       "    <tr>\n",
       "      <th rowspan=\"5\" valign=\"top\">12</th>\n",
       "      <th>2020-12-27</th>\n",
       "      <td>0.337994</td>\n",
       "    </tr>\n",
       "    <tr>\n",
       "      <th>2020-12-28</th>\n",
       "      <td>0.193210</td>\n",
       "    </tr>\n",
       "    <tr>\n",
       "      <th>2020-12-29</th>\n",
       "      <td>0.294107</td>\n",
       "    </tr>\n",
       "    <tr>\n",
       "      <th>2020-12-30</th>\n",
       "      <td>0.344429</td>\n",
       "    </tr>\n",
       "    <tr>\n",
       "      <th>2020-12-31</th>\n",
       "      <td>0.352026</td>\n",
       "    </tr>\n",
       "  </tbody>\n",
       "</table>\n",
       "<p>367 rows × 1 columns</p>\n",
       "</div>"
      ],
      "text/plain": [
       "                Radiação Média (kWh/m²)\n",
       "Mês Data                               \n",
       "1   2020-01-01                 0.390560\n",
       "    2020-01-02                 0.200193\n",
       "    2020-01-03                 0.237720\n",
       "    2020-01-04                 0.279550\n",
       "    2020-01-05                 0.233435\n",
       "...                                 ...\n",
       "12  2020-12-27                 0.337994\n",
       "    2020-12-28                 0.193210\n",
       "    2020-12-29                 0.294107\n",
       "    2020-12-30                 0.344429\n",
       "    2020-12-31                 0.352026\n",
       "\n",
       "[367 rows x 1 columns]"
      ]
     },
     "execution_count": 87,
     "metadata": {},
     "output_type": "execute_result"
    }
   ],
   "source": [
    "df_cont_rad_dia = pd.DataFrame(vilhena_2020.groupby (['Mês','Data'])['RADIACAO GLOBAL (KWh/m²)'].mean())\n",
    "df_cont_rad_dia.columns = ['Radiação Média (kWh/m²)']\n",
    "df_cont_rad_dia"
   ]
  },
  {
   "cell_type": "markdown",
   "id": "10477f39",
   "metadata": {},
   "source": [
    "### Pior radiação média por dia"
   ]
  },
  {
   "cell_type": "code",
   "execution_count": 92,
   "id": "15740bcc",
   "metadata": {},
   "outputs": [
    {
     "data": {
      "text/html": [
       "<div>\n",
       "<style scoped>\n",
       "    .dataframe tbody tr th:only-of-type {\n",
       "        vertical-align: middle;\n",
       "    }\n",
       "\n",
       "    .dataframe tbody tr th {\n",
       "        vertical-align: top;\n",
       "    }\n",
       "\n",
       "    .dataframe thead th {\n",
       "        text-align: right;\n",
       "    }\n",
       "</style>\n",
       "<table border=\"1\" class=\"dataframe\">\n",
       "  <thead>\n",
       "    <tr style=\"text-align: right;\">\n",
       "      <th></th>\n",
       "      <th></th>\n",
       "      <th>Radiação Média (kWh/m²)</th>\n",
       "    </tr>\n",
       "    <tr>\n",
       "      <th>Mês</th>\n",
       "      <th>Data</th>\n",
       "      <th></th>\n",
       "    </tr>\n",
       "  </thead>\n",
       "  <tbody>\n",
       "    <tr>\n",
       "      <th>3</th>\n",
       "      <th>2020-03-20</th>\n",
       "      <td>0.087363</td>\n",
       "    </tr>\n",
       "  </tbody>\n",
       "</table>\n",
       "</div>"
      ],
      "text/plain": [
       "                Radiação Média (kWh/m²)\n",
       "Mês Data                               \n",
       "3   2020-03-20                 0.087363"
      ]
     },
     "execution_count": 92,
     "metadata": {},
     "output_type": "execute_result"
    }
   ],
   "source": [
    "selecao = df_cont_rad_dia['Radiação Média (kWh/m²)'] == df_cont_rad_dia['Radiação Média (kWh/m²)'].min()\n",
    "df_cont_rad_dia[selecao]"
   ]
  },
  {
   "cell_type": "markdown",
   "id": "bfc01c91",
   "metadata": {},
   "source": [
    "### Irradiação no Pior dia"
   ]
  },
  {
   "cell_type": "code",
   "execution_count": 100,
   "id": "6b012ad8",
   "metadata": {},
   "outputs": [
    {
     "data": {
      "text/plain": [
       "datetime.date(2020, 3, 20)"
      ]
     },
     "execution_count": 100,
     "metadata": {},
     "output_type": "execute_result"
    }
   ],
   "source": [
    "df_cont_rad_dia[selecao].index.get_level_values('Data')[0]\n"
   ]
  },
  {
   "cell_type": "code",
   "execution_count": 103,
   "id": "c537ab13",
   "metadata": {
    "scrolled": true
   },
   "outputs": [
    {
     "data": {
      "text/html": [
       "<div>\n",
       "<style scoped>\n",
       "    .dataframe tbody tr th:only-of-type {\n",
       "        vertical-align: middle;\n",
       "    }\n",
       "\n",
       "    .dataframe tbody tr th {\n",
       "        vertical-align: top;\n",
       "    }\n",
       "\n",
       "    .dataframe thead th {\n",
       "        text-align: right;\n",
       "    }\n",
       "</style>\n",
       "<table border=\"1\" class=\"dataframe\">\n",
       "  <thead>\n",
       "    <tr style=\"text-align: right;\">\n",
       "      <th></th>\n",
       "      <th>Datetime</th>\n",
       "      <th>RADIACAO GLOBAL (KWh/m²)</th>\n",
       "    </tr>\n",
       "  </thead>\n",
       "  <tbody>\n",
       "    <tr>\n",
       "      <th>1899</th>\n",
       "      <td>2020-03-20 00:00:00</td>\n",
       "      <td>NaN</td>\n",
       "    </tr>\n",
       "    <tr>\n",
       "      <th>1900</th>\n",
       "      <td>2020-03-20 01:00:00</td>\n",
       "      <td>NaN</td>\n",
       "    </tr>\n",
       "    <tr>\n",
       "      <th>1901</th>\n",
       "      <td>2020-03-20 02:00:00</td>\n",
       "      <td>NaN</td>\n",
       "    </tr>\n",
       "    <tr>\n",
       "      <th>1902</th>\n",
       "      <td>2020-03-20 03:00:00</td>\n",
       "      <td>NaN</td>\n",
       "    </tr>\n",
       "    <tr>\n",
       "      <th>1903</th>\n",
       "      <td>2020-03-20 04:00:00</td>\n",
       "      <td>NaN</td>\n",
       "    </tr>\n",
       "    <tr>\n",
       "      <th>1904</th>\n",
       "      <td>2020-03-20 05:00:00</td>\n",
       "      <td>NaN</td>\n",
       "    </tr>\n",
       "    <tr>\n",
       "      <th>1905</th>\n",
       "      <td>2020-03-20 06:00:00</td>\n",
       "      <td>NaN</td>\n",
       "    </tr>\n",
       "    <tr>\n",
       "      <th>1906</th>\n",
       "      <td>2020-03-20 07:00:00</td>\n",
       "      <td>NaN</td>\n",
       "    </tr>\n",
       "    <tr>\n",
       "      <th>1907</th>\n",
       "      <td>2020-03-20 08:00:00</td>\n",
       "      <td>0.020528</td>\n",
       "    </tr>\n",
       "    <tr>\n",
       "      <th>1908</th>\n",
       "      <td>2020-03-20 09:00:00</td>\n",
       "      <td>0.076667</td>\n",
       "    </tr>\n",
       "    <tr>\n",
       "      <th>1909</th>\n",
       "      <td>2020-03-20 10:00:00</td>\n",
       "      <td>0.071139</td>\n",
       "    </tr>\n",
       "    <tr>\n",
       "      <th>1910</th>\n",
       "      <td>2020-03-20 11:00:00</td>\n",
       "      <td>0.217444</td>\n",
       "    </tr>\n",
       "    <tr>\n",
       "      <th>1911</th>\n",
       "      <td>2020-03-20 12:00:00</td>\n",
       "      <td>0.236361</td>\n",
       "    </tr>\n",
       "    <tr>\n",
       "      <th>1912</th>\n",
       "      <td>2020-03-20 13:00:00</td>\n",
       "      <td>0.174333</td>\n",
       "    </tr>\n",
       "    <tr>\n",
       "      <th>1913</th>\n",
       "      <td>2020-03-20 14:00:00</td>\n",
       "      <td>0.174111</td>\n",
       "    </tr>\n",
       "    <tr>\n",
       "      <th>1914</th>\n",
       "      <td>2020-03-20 15:00:00</td>\n",
       "      <td>0.067389</td>\n",
       "    </tr>\n",
       "    <tr>\n",
       "      <th>1915</th>\n",
       "      <td>2020-03-20 16:00:00</td>\n",
       "      <td>0.024722</td>\n",
       "    </tr>\n",
       "    <tr>\n",
       "      <th>1916</th>\n",
       "      <td>2020-03-20 17:00:00</td>\n",
       "      <td>0.032222</td>\n",
       "    </tr>\n",
       "    <tr>\n",
       "      <th>1917</th>\n",
       "      <td>2020-03-20 18:00:00</td>\n",
       "      <td>0.028861</td>\n",
       "    </tr>\n",
       "    <tr>\n",
       "      <th>1918</th>\n",
       "      <td>2020-03-20 19:00:00</td>\n",
       "      <td>0.011611</td>\n",
       "    </tr>\n",
       "    <tr>\n",
       "      <th>1919</th>\n",
       "      <td>2020-03-20 20:00:00</td>\n",
       "      <td>0.000333</td>\n",
       "    </tr>\n",
       "    <tr>\n",
       "      <th>1920</th>\n",
       "      <td>2020-03-20 21:00:00</td>\n",
       "      <td>NaN</td>\n",
       "    </tr>\n",
       "    <tr>\n",
       "      <th>1921</th>\n",
       "      <td>2020-03-20 22:00:00</td>\n",
       "      <td>NaN</td>\n",
       "    </tr>\n",
       "    <tr>\n",
       "      <th>1922</th>\n",
       "      <td>2020-03-20 23:00:00</td>\n",
       "      <td>NaN</td>\n",
       "    </tr>\n",
       "  </tbody>\n",
       "</table>\n",
       "</div>"
      ],
      "text/plain": [
       "                Datetime  RADIACAO GLOBAL (KWh/m²)\n",
       "1899 2020-03-20 00:00:00                       NaN\n",
       "1900 2020-03-20 01:00:00                       NaN\n",
       "1901 2020-03-20 02:00:00                       NaN\n",
       "1902 2020-03-20 03:00:00                       NaN\n",
       "1903 2020-03-20 04:00:00                       NaN\n",
       "1904 2020-03-20 05:00:00                       NaN\n",
       "1905 2020-03-20 06:00:00                       NaN\n",
       "1906 2020-03-20 07:00:00                       NaN\n",
       "1907 2020-03-20 08:00:00                  0.020528\n",
       "1908 2020-03-20 09:00:00                  0.076667\n",
       "1909 2020-03-20 10:00:00                  0.071139\n",
       "1910 2020-03-20 11:00:00                  0.217444\n",
       "1911 2020-03-20 12:00:00                  0.236361\n",
       "1912 2020-03-20 13:00:00                  0.174333\n",
       "1913 2020-03-20 14:00:00                  0.174111\n",
       "1914 2020-03-20 15:00:00                  0.067389\n",
       "1915 2020-03-20 16:00:00                  0.024722\n",
       "1916 2020-03-20 17:00:00                  0.032222\n",
       "1917 2020-03-20 18:00:00                  0.028861\n",
       "1918 2020-03-20 19:00:00                  0.011611\n",
       "1919 2020-03-20 20:00:00                  0.000333\n",
       "1920 2020-03-20 21:00:00                       NaN\n",
       "1921 2020-03-20 22:00:00                       NaN\n",
       "1922 2020-03-20 23:00:00                       NaN"
      ]
     },
     "execution_count": 103,
     "metadata": {},
     "output_type": "execute_result"
    }
   ],
   "source": [
    "data=df_cont_rad_dia[selecao].index.get_level_values('Data')[0]\n",
    "vilhena_2020[vilhena_2020['Data'] == data][['Datetime','RADIACAO GLOBAL (KWh/m²)']]"
   ]
  },
  {
   "cell_type": "code",
   "execution_count": 342,
   "id": "b08fb3a7",
   "metadata": {},
   "outputs": [
    {
     "data": {
      "text/plain": [
       "RADIACAO GLOBAL (Kj/m²)     1004.646154\n",
       "RADIACAO GLOBAL (KWh/m²)       0.279068\n",
       "dtype: float64"
      ]
     },
     "execution_count": 342,
     "metadata": {},
     "output_type": "execute_result"
    }
   ],
   "source": [
    "vilhena_2020[vilhena_2020['Data'] == data][['RADIACAO GLOBAL (Kj/m²)','RADIACAO GLOBAL (KWh/m²)']].mean()"
   ]
  },
  {
   "cell_type": "code",
   "execution_count": 411,
   "id": "36bc2124",
   "metadata": {},
   "outputs": [
    {
     "data": {
      "text/plain": [
       "datetime.timedelta(seconds=10800)"
      ]
     },
     "execution_count": 411,
     "metadata": {},
     "output_type": "execute_result"
    }
   ],
   "source": []
  },
  {
   "cell_type": "code",
   "execution_count": 419,
   "id": "f83b0aee",
   "metadata": {},
   "outputs": [
    {
     "data": {
      "text/plain": [
       "Timestamp('2020-01-19 21:18:00')"
      ]
     },
     "execution_count": 419,
     "metadata": {},
     "output_type": "execute_result"
    }
   ],
   "source": []
  },
  {
   "cell_type": "code",
   "execution_count": 414,
   "id": "0d786588",
   "metadata": {},
   "outputs": [
    {
     "ename": "TypeError",
     "evalue": "unsupported operand type(s) for -: 'datetime.time' and 'datetime.timedelta'",
     "output_type": "error",
     "traceback": [
      "\u001b[1;31m---------------------------------------------------------------------------\u001b[0m",
      "\u001b[1;31mTypeError\u001b[0m                                 Traceback (most recent call last)",
      "Input \u001b[1;32mIn [414]\u001b[0m, in \u001b[0;36m<cell line: 1>\u001b[1;34m()\u001b[0m\n\u001b[1;32m----> 1\u001b[0m \u001b[43mhora\u001b[49m\u001b[43m \u001b[49m\u001b[38;5;241;43m-\u001b[39;49m\u001b[43m \u001b[49m\u001b[43mdelta\u001b[49m\n",
      "\u001b[1;31mTypeError\u001b[0m: unsupported operand type(s) for -: 'datetime.time' and 'datetime.timedelta'"
     ]
    }
   ],
   "source": [
    "hora - delta"
   ]
  },
  {
   "cell_type": "code",
   "execution_count": null,
   "id": "2adb9fb0",
   "metadata": {},
   "outputs": [],
   "source": [
    " "
   ]
  }
 ],
 "metadata": {
  "kernelspec": {
   "display_name": "Python 3 (ipykernel)",
   "language": "python",
   "name": "python3"
  },
  "language_info": {
   "codemirror_mode": {
    "name": "ipython",
    "version": 3
   },
   "file_extension": ".py",
   "mimetype": "text/x-python",
   "name": "python",
   "nbconvert_exporter": "python",
   "pygments_lexer": "ipython3",
   "version": "3.9.12"
  }
 },
 "nbformat": 4,
 "nbformat_minor": 5
}
